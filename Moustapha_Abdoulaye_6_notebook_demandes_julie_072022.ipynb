{
 "cells": [
  {
   "cell_type": "markdown",
   "id": "b8f29a79",
   "metadata": {
    "slideshow": {
     "slide_type": "skip"
    }
   },
   "source": [
    "![LAPAGE%20NORMAL.png](attachment:LAPAGE%20NORMAL.png)"
   ]
  },
  {
   "cell_type": "markdown",
   "id": "1dda824f",
   "metadata": {
    "slideshow": {
     "slide_type": "skip"
    }
   },
   "source": [
    "### Première Partie - Importation des librairies et lecture des fichiers"
   ]
  },
  {
   "cell_type": "markdown",
   "id": "140d34f0",
   "metadata": {
    "slideshow": {
     "slide_type": "skip"
    }
   },
   "source": [
    "### I. Importation des librairies"
   ]
  },
  {
   "cell_type": "code",
   "execution_count": 1,
   "id": "fd973e6c",
   "metadata": {
    "slideshow": {
     "slide_type": "skip"
    }
   },
   "outputs": [],
   "source": [
    "# Importons les librairies dont nous auront besoin\n",
    "# Nous utiliserons en plus des librairies pour confirmer les corrélations à l'aide de tests statistiques.\n",
    "import pandas as pd\n",
    "import numpy as np\n",
    "import seaborn as sns\n",
    "import matplotlib.pyplot as plt\n",
    "import datetime\n",
    "from scipy.stats import shapiro\n",
    "from scipy.stats import ttest_1samp\n",
    "from scipy.stats import f_oneway\n",
    "from scipy.stats import chi2_contingency\n",
    "from scipy.stats import chi2\n",
    "from scipy.stats import pearsonr\n",
    "from scipy.stats import kruskal"
   ]
  },
  {
   "cell_type": "markdown",
   "id": "eadaca3d",
   "metadata": {
    "slideshow": {
     "slide_type": "skip"
    }
   },
   "source": [
    "### II. Récupération des fichiers"
   ]
  },
  {
   "cell_type": "markdown",
   "id": "c67ad86f",
   "metadata": {
    "slideshow": {
     "slide_type": "skip"
    }
   },
   "source": [
    "#### II.1.  Lecture des fichiers"
   ]
  },
  {
   "cell_type": "markdown",
   "id": "e5206197",
   "metadata": {
    "slideshow": {
     "slide_type": "skip"
    }
   },
   "source": [
    "#### II.1.1. transac_prod_cust3"
   ]
  },
  {
   "cell_type": "code",
   "execution_count": 2,
   "id": "fce7a6d7",
   "metadata": {
    "slideshow": {
     "slide_type": "skip"
    }
   },
   "outputs": [],
   "source": [
    "# Récupérons notre fichier dans une variable\n",
    "transac_prod_cust3 = pd.read_csv('transac_prod_cust3_DJ.csv')"
   ]
  },
  {
   "cell_type": "markdown",
   "id": "46c2c5ce",
   "metadata": {
    "slideshow": {
     "slide_type": "skip"
    }
   },
   "source": [
    "#### II.1.2. b2b"
   ]
  },
  {
   "cell_type": "code",
   "execution_count": 3,
   "id": "0c15a5c3",
   "metadata": {
    "slideshow": {
     "slide_type": "skip"
    }
   },
   "outputs": [],
   "source": [
    "# Récupérons notre fichier dans une variable\n",
    "b2b = pd.read_csv('b2b_DJ.csv')"
   ]
  },
  {
   "cell_type": "markdown",
   "id": "49081056",
   "metadata": {
    "slideshow": {
     "slide_type": "skip"
    }
   },
   "source": [
    "#### II.1.2. b2c"
   ]
  },
  {
   "cell_type": "code",
   "execution_count": 4,
   "id": "174ff48b",
   "metadata": {
    "slideshow": {
     "slide_type": "skip"
    }
   },
   "outputs": [],
   "source": [
    "# Récupérons notre fichier dans une variable\n",
    "b2c = pd.read_csv('b2c_DJ.csv')"
   ]
  },
  {
   "cell_type": "markdown",
   "id": "4144655b",
   "metadata": {
    "slideshow": {
     "slide_type": "slide"
    }
   },
   "source": [
    "### Deuxième Partie - Demandes de Julie"
   ]
  },
  {
   "cell_type": "markdown",
   "id": "0c5c6ed8",
   "metadata": {
    "slideshow": {
     "slide_type": "slide"
    }
   },
   "source": [
    "### I. Tests"
   ]
  },
  {
   "cell_type": "markdown",
   "id": "4f25aaa1",
   "metadata": {
    "slideshow": {
     "slide_type": "skip"
    }
   },
   "source": [
    "TEST DE NORMALITE (SHAPIRO)\n",
    "\n",
    "\n",
    "- Vérifier la normalité des données constitue est une étape cruciale avant la réalisation d'un test d'hypothèse mettant en jeu une ou plusieurs variables continues. Il s'agit donc de s'assurer que les variables continues sont distribuées selon la loi normale. Si cela est le cas, les tests d'hypothèse classiques sont applicables (ANOVA)\n",
    "- Si la condition de normalité est violée, il faudra trouver une alternative dite \"non paramétrique\" au test d'hypothèse à réaliser(KRUSKAL)"
   ]
  },
  {
   "cell_type": "markdown",
   "id": "b652e252",
   "metadata": {
    "slideshow": {
     "slide_type": "skip"
    }
   },
   "source": [
    "TEST DE CORRÉLATION DE (CHI2)\n",
    "- Le test d'indépendance du χ² mesure la corrélation entre 2 variables qualitatives ou catégorielles\n",
    "- La fonction chi2 calcule la p_valeur pour le test d'hypothèse d'indépendance des fréquences observées dans le tableau de contingence"
   ]
  },
  {
   "cell_type": "markdown",
   "id": "a2a3e124",
   "metadata": {
    "slideshow": {
     "slide_type": "skip"
    }
   },
   "source": [
    "TEST DE CORRÉLATION DE PEARSON\n",
    "\n",
    "- Il est utilisé pour étudier l’association entre un facteur d’étude et une variable de réponse quantitative, il mesure le degré d’association entre deux variables en prenant des valeurs entre -1 et 1.\n",
    "\n",
    "- Le coefficient de Pearson est un indice reflétant une relation linéaire entre deux variables continues. \n",
    "- Le coefficient de corrélation varie entre -1 et +1, 0 reflétant une relation nulle entre les deux variables,\n",
    "- une valeur négative (corrélation négative) signifiant que lorsqu'une des variable augmente, l'autre diminue ; \n",
    "- tandis qu'une valeur positive (corrélation positive) indique que les deux variables varient ensemble dans le même sens.\n"
   ]
  },
  {
   "cell_type": "markdown",
   "id": "ec5f3e5c",
   "metadata": {
    "slideshow": {
     "slide_type": "slide"
    }
   },
   "source": [
    "#### I.1. Genre et catégorie  (Chi 2)"
   ]
  },
  {
   "cell_type": "markdown",
   "id": "9b15a946",
   "metadata": {
    "slideshow": {
     "slide_type": "subslide"
    }
   },
   "source": [
    "- Nous avons affaire à deux variables qualitatives\n",
    "- Nos deux variables catégorielles sont 'sexe' et 'catégorie' "
   ]
  },
  {
   "cell_type": "code",
   "execution_count": 5,
   "id": "ee70cae1",
   "metadata": {
    "slideshow": {
     "slide_type": "subslide"
    }
   },
   "outputs": [
    {
     "data": {
      "image/png": "[encoded data removed]",
      "text/plain": [
       "<Figure size 432x288 with 1 Axes>"
      ]
     },
     "metadata": {
      "needs_background": "light"
     },
     "output_type": "display_data"
    }
   ],
   "source": [
    "# visualisons le tableau de contingence pour voir plus clairement la repartition\n",
    "# Construisons les diagramme en barres en discrétisant par le genre\n",
    "sns.countplot(data=transac_prod_cust3, x='p_categ', hue='c_sex')\n",
    "plt.title('Effectifs des ventes par sexe et catégorie')\n",
    "plt.show()"
   ]
  },
  {
   "cell_type": "markdown",
   "id": "89338c51",
   "metadata": {
    "slideshow": {
     "slide_type": "subslide"
    }
   },
   "source": [
    "- Les hommes achètent plus de livres de catégorie 0\n",
    "- Les femmes achètent plus de livres de catégorie 1\n",
    "- Les hommes achètent plus de livres de catégorie 2"
   ]
  },
  {
   "cell_type": "code",
   "execution_count": 6,
   "id": "a45627e2",
   "metadata": {
    "slideshow": {
     "slide_type": "subslide"
    }
   },
   "outputs": [
    {
     "data": {
      "text/html": [
       "<div>\n",
       "<style scoped>\n",
       "    .dataframe tbody tr th:only-of-type {\n",
       "        vertical-align: middle;\n",
       "    }\n",
       "\n",
       "    .dataframe tbody tr th {\n",
       "        vertical-align: top;\n",
       "    }\n",
       "\n",
       "    .dataframe thead th {\n",
       "        text-align: right;\n",
       "    }\n",
       "</style>\n",
       "<table border=\"1\" class=\"dataframe\">\n",
       "  <thead>\n",
       "    <tr style=\"text-align: right;\">\n",
       "      <th>p_categ</th>\n",
       "      <th>0.0</th>\n",
       "      <th>1.0</th>\n",
       "      <th>2.0</th>\n",
       "    </tr>\n",
       "    <tr>\n",
       "      <th>c_sex</th>\n",
       "      <th></th>\n",
       "      <th></th>\n",
       "      <th></th>\n",
       "    </tr>\n",
       "  </thead>\n",
       "  <tbody>\n",
       "    <tr>\n",
       "      <th>f</th>\n",
       "      <td>206220</td>\n",
       "      <td>114899</td>\n",
       "      <td>17283</td>\n",
       "    </tr>\n",
       "    <tr>\n",
       "      <th>m</th>\n",
       "      <td>209460</td>\n",
       "      <td>112270</td>\n",
       "      <td>19200</td>\n",
       "    </tr>\n",
       "  </tbody>\n",
       "</table>\n",
       "</div>"
      ],
      "text/plain": [
       "p_categ     0.0     1.0    2.0\n",
       "c_sex                         \n",
       "f        206220  114899  17283\n",
       "m        209460  112270  19200"
      ]
     },
     "execution_count": 6,
     "metadata": {},
     "output_type": "execute_result"
    }
   ],
   "source": [
    "# Tableau de contingence entre les variables 'catégorie' et 'sexe' qui va résumer ce que nous avons vu sur les graphiques\n",
    "contingency_table = pd.crosstab(transac_prod_cust3['c_sex'],transac_prod_cust3['p_categ'])\n",
    "contingency_table"
   ]
  },
  {
   "cell_type": "code",
   "execution_count": 7,
   "id": "ca1f35fb",
   "metadata": {
    "slideshow": {
     "slide_type": "subslide"
    }
   },
   "outputs": [],
   "source": [
    "# Hypothèses\n",
    "H0 = \"pas de relation entre le genre et la catégorie des livres\"\n",
    "H1 = \"Il y a une relation entre le genre et la catégorie des livres\""
   ]
  },
  {
   "cell_type": "code",
   "execution_count": 8,
   "id": "8a481c5b",
   "metadata": {
    "slideshow": {
     "slide_type": "subslide"
    }
   },
   "outputs": [
    {
     "name": "stdout",
     "output_type": "stream",
     "text": [
      "p_valeur: 1.1989607410166063e-32\n",
      "On rejette l'hypothèse nulle\n"
     ]
    }
   ],
   "source": [
    "# Test du chi2\n",
    "c, p, dof, expected = chi2_contingency(contingency_table)\n",
    "# print the p_value\n",
    "print('p_valeur:',p)\n",
    "if p<0.05:\n",
    "    print(\"On rejette l'hypothèse nulle\")\n",
    "else:\n",
    "    print(\"On accepte l'hypothèse nulle\")"
   ]
  },
  {
   "cell_type": "markdown",
   "id": "2b8e3172",
   "metadata": {
    "slideshow": {
     "slide_type": "subslide"
    }
   },
   "source": [
    "- Etant donné que la p_valeur est inférieure au niveau de signification alpha = 0.05,\n",
    "- On doit rejetter l'hypothèse nulle H(0)\n",
    "- Il ya  corrélation entre le genre et la catégorie des livres achetés"
   ]
  },
  {
   "cell_type": "markdown",
   "id": "9b4b3881",
   "metadata": {
    "slideshow": {
     "slide_type": "slide"
    }
   },
   "source": [
    "#### I.2. Classes d'âge des clients et le montant total des achats"
   ]
  },
  {
   "cell_type": "markdown",
   "id": "efbe50a2",
   "metadata": {
    "slideshow": {
     "slide_type": "subslide"
    }
   },
   "source": [
    "- Nous avons affaire à une variable qualitative et à une variable quantitative\n",
    "- La variable qualitative est 'classes d'âge' et La variable quantitative est le 'montant des achats' "
   ]
  },
  {
   "cell_type": "code",
   "execution_count": 9,
   "id": "24fc468d",
   "metadata": {
    "slideshow": {
     "slide_type": "subslide"
    }
   },
   "outputs": [
    {
     "data": {
      "image/png": "[encoded data removed]",
      "text/plain": [
       "<Figure size 1152x288 with 1 Axes>"
      ]
     },
     "metadata": {
      "needs_background": "light"
     },
     "output_type": "display_data"
    }
   ],
   "source": [
    "# Construisons les boîtes à moustaches\n",
    "plt.figure(figsize=(16,4))\n",
    "sns.boxplot(data=transac_prod_cust3.sort_values(by='classe_age'), \n",
    "            x='classe_age', y='total_achats', \n",
    "            showfliers=False, showmeans=False)\n",
    "plt.show()"
   ]
  },
  {
   "cell_type": "markdown",
   "id": "30412dd8",
   "metadata": {
    "slideshow": {
     "slide_type": "subslide"
    }
   },
   "source": [
    "Le test de Shapiro-Wilk est un test permettant de savoir si une série de données suit une loi normale. lorsqu'on est en face d'une variable qualitative et d'une variable quantitative"
   ]
  },
  {
   "cell_type": "code",
   "execution_count": 10,
   "id": "953a860e",
   "metadata": {
    "slideshow": {
     "slide_type": "subslide"
    }
   },
   "outputs": [],
   "source": [
    "# Shapiro\n",
    "# hypotheses test normalité \n",
    "H0 = \"La variable quantitative suit une distribution normale\"\n",
    "Ha = \"La variable quantitative ne suit pas une distribution normale\""
   ]
  },
  {
   "cell_type": "code",
   "execution_count": 22,
   "id": "07846423",
   "metadata": {
    "slideshow": {
     "slide_type": "subslide"
    }
   },
   "outputs": [
    {
     "name": "stdout",
     "output_type": "stream",
     "text": [
      "p_valeur: ShapiroResult(statistic=0.2797296643257141, pvalue=0.0)\n",
      "On rejette l'hypothèse nulle\n"
     ]
    },
    {
     "name": "stderr",
     "output_type": "stream",
     "text": [
      "C:\\Users\\moust\\anaconda3\\lib\\site-packages\\scipy\\stats\\morestats.py:1760: UserWarning: p-value may not be accurate for N > 5000.\n",
      "  warnings.warn(\"p-value may not be accurate for N > 5000.\")\n"
     ]
    }
   ],
   "source": [
    "p = shapiro(transac_prod_cust3['total_achats'])\n",
    "print('p_valeur:',p)\n",
    "if p.pvalue < 0.05:\n",
    "    print(\"On rejette l'hypothèse nulle\")\n",
    "else:\n",
    "    print(\"On accepte l'hypothèse nulle\")"
   ]
  },
  {
   "cell_type": "markdown",
   "id": "72149a88",
   "metadata": {
    "slideshow": {
     "slide_type": "subslide"
    }
   },
   "source": [
    "- Test non paramétrique :  C’est un test qui ne suit pas la distribution normale.\n",
    "- Dans ce cas test ne suit pas une distribution normale, donc nous appliquerons kruskal"
   ]
  },
  {
   "cell_type": "code",
   "execution_count": 12,
   "id": "4929406c",
   "metadata": {
    "slideshow": {
     "slide_type": "subslide"
    }
   },
   "outputs": [],
   "source": [
    "# Kruskal\n",
    "# Hypothèses\n",
    "H0 = \"Pas de relation entre l'âge et le montant total des achats\"\n",
    "H1 = \"Il y a une relation entre l'âge et le montant total des achats\""
   ]
  },
  {
   "cell_type": "code",
   "execution_count": 23,
   "id": "6c65aa0f",
   "metadata": {
    "slideshow": {
     "slide_type": "subslide"
    }
   },
   "outputs": [
    {
     "name": "stdout",
     "output_type": "stream",
     "text": [
      "p_valeur: KruskalResult(statistic=54758.84535383601, pvalue=0.0)\n",
      "On rejette l'hypothèse nulle\n"
     ]
    }
   ],
   "source": [
    "# test le lien entre les deux variables\n",
    "group1 = transac_prod_cust3[transac_prod_cust3[\"classe_age\"] == \"18-30\"][\"total_achats\"]\n",
    "group2 = transac_prod_cust3[transac_prod_cust3[\"classe_age\"] == \"30-50\"][\"total_achats\"]\n",
    "group3 = transac_prod_cust3[transac_prod_cust3[\"classe_age\"] == \"50-70\"][\"total_achats\"]\n",
    "group4 = transac_prod_cust3[transac_prod_cust3[\"classe_age\"] == \"70 et +\"][\"total_achats\"]\n",
    "a = kruskal(group1, group2, group3,group4)\n",
    "print('p_valeur:',a)\n",
    "if a.pvalue < 0.05:\n",
    "    print(\"On rejette l'hypothèse nulle\")\n",
    "else:\n",
    "    print(\"On accepte l'hypothèse nulle\")"
   ]
  },
  {
   "cell_type": "markdown",
   "id": "d13bc877",
   "metadata": {
    "slideshow": {
     "slide_type": "subslide"
    }
   },
   "source": [
    "- Etant donné que la p_valeur est inférieure au niveau de signification alpha = 0.05,\n",
    "- On doit rejeter l'hypoyhèse nulle H(0) et retenir l'hypothèse alternative H(1) \n",
    "- Il ya une relation entre l'âge et le montant total des achats"
   ]
  },
  {
   "cell_type": "markdown",
   "id": "08856dbd",
   "metadata": {
    "slideshow": {
     "slide_type": "slide"
    }
   },
   "source": [
    "#### I.3. Age des clients et taille panier moyen "
   ]
  },
  {
   "cell_type": "markdown",
   "id": "c30940e8",
   "metadata": {
    "slideshow": {
     "slide_type": "subslide"
    }
   },
   "source": [
    "- Nous avons affaire à deux variables quantitatives\n",
    "- La taille du panier moyen évolue t-il en fonction de l'âge ?"
   ]
  },
  {
   "cell_type": "code",
   "execution_count": 14,
   "id": "5aa056b1",
   "metadata": {
    "slideshow": {
     "slide_type": "subslide"
    }
   },
   "outputs": [
    {
     "data": {
      "text/plain": [
       "Text(0.5, 1.0, 'Age vs taille_panier_moyen')"
      ]
     },
     "execution_count": 14,
     "metadata": {},
     "output_type": "execute_result"
    },
    {
     "data": {
      "image/png": "[encoded data removed]",
      "text/plain": [
       "<Figure size 432x288 with 1 Axes>"
      ]
     },
     "metadata": {
      "needs_background": "light"
     },
     "output_type": "display_data"
    }
   ],
   "source": [
    "# Visualisons la relation sur un nuage des points\n",
    "fig=plt.figure()\n",
    "ax= plt.axes()\n",
    "x=transac_prod_cust3[transac_prod_cust3['taille_panier_moyen'] < 30] ['c_age']\n",
    "\n",
    "y=transac_prod_cust3[transac_prod_cust3['taille_panier_moyen'] < 30] ['taille_panier_moyen']\n",
    "plt.scatter(x,y)\n",
    "ax=ax.set(xlabel='c_age',ylabel='taille_panier_moyen')\n",
    "plt.title('Age vs taille_panier_moyen')"
   ]
  },
  {
   "cell_type": "markdown",
   "id": "f5c2bd99",
   "metadata": {
    "slideshow": {
     "slide_type": "subslide"
    }
   },
   "source": [
    "- On peut voir une tendance qui se dégage\n",
    "- Plus l'âge évolue, plus la taille du panier moyen baisse\n",
    "- Le test de pearson confirme t'il cette tendance ?"
   ]
  },
  {
   "cell_type": "code",
   "execution_count": 24,
   "id": "44fb494f",
   "metadata": {
    "slideshow": {
     "slide_type": "subslide"
    }
   },
   "outputs": [
    {
     "name": "stdout",
     "output_type": "stream",
     "text": [
      "Coef_cor_pearson: -0.05030160425464768\n"
     ]
    }
   ],
   "source": [
    "# Test pearson\n",
    "r, p = pearsonr(transac_prod_cust3['c_age'],transac_prod_cust3['taille_panier_moyen'] )\n",
    "\n",
    "# Affichons le coefficient de correlation\n",
    "print('Coef_cor_pearson:',r)\n",
    "   "
   ]
  },
  {
   "cell_type": "markdown",
   "id": "1cb49201",
   "metadata": {
    "slideshow": {
     "slide_type": "subslide"
    }
   },
   "source": [
    "- Une valeur négative (corrélation négative) signifiant que lorsqu'une des variable augmente, l'autre diminue ; \n",
    "- Dans le cas d'espèce , plus l'âge évolue, plus la taille du panier moyen baisse. Les deux variables n'évoluent pas dans le même sens.\n",
    "- Il n'y a pas de corrélation entre l'âge et la taille du panier moyen"
   ]
  },
  {
   "cell_type": "markdown",
   "id": "79b6d0cf",
   "metadata": {
    "slideshow": {
     "slide_type": "skip"
    }
   },
   "source": [
    "#### I.4. Age et catégorie des livres achetés  (Chi 2)"
   ]
  },
  {
   "cell_type": "markdown",
   "id": "0565b5f0",
   "metadata": {
    "slideshow": {
     "slide_type": "skip"
    }
   },
   "source": [
    "- Nous avons affaire à deux variables qualitatives\n",
    "- Nos deux variables catégorielles sont 'Age' et 'catégorie' "
   ]
  },
  {
   "cell_type": "code",
   "execution_count": 16,
   "id": "eaf16640",
   "metadata": {
    "slideshow": {
     "slide_type": "skip"
    }
   },
   "outputs": [
    {
     "data": {
      "image/png": "[encoded data removed]",
      "text/plain": [
       "<Figure size 432x288 with 1 Axes>"
      ]
     },
     "metadata": {
      "needs_background": "light"
     },
     "output_type": "display_data"
    }
   ],
   "source": [
    "# Construisons les diagramme en barres en discrétisant par le sexe\n",
    "# visualisons le tableau de contingence pour voir plus clairement la repartition\n",
    "sns.countplot(data=transac_prod_cust3, x='p_categ', hue='classe_age')\n",
    "plt.title('Achats des livres par âge et catégorie')\n",
    "plt.show()"
   ]
  },
  {
   "cell_type": "code",
   "execution_count": 17,
   "id": "42b6236a",
   "metadata": {
    "slideshow": {
     "slide_type": "skip"
    }
   },
   "outputs": [
    {
     "data": {
      "text/html": [
       "<div>\n",
       "<style scoped>\n",
       "    .dataframe tbody tr th:only-of-type {\n",
       "        vertical-align: middle;\n",
       "    }\n",
       "\n",
       "    .dataframe tbody tr th {\n",
       "        vertical-align: top;\n",
       "    }\n",
       "\n",
       "    .dataframe thead th {\n",
       "        text-align: right;\n",
       "    }\n",
       "</style>\n",
       "<table border=\"1\" class=\"dataframe\">\n",
       "  <thead>\n",
       "    <tr style=\"text-align: right;\">\n",
       "      <th>p_categ</th>\n",
       "      <th>0.0</th>\n",
       "      <th>1.0</th>\n",
       "      <th>2.0</th>\n",
       "    </tr>\n",
       "    <tr>\n",
       "      <th>classe_age</th>\n",
       "      <th></th>\n",
       "      <th></th>\n",
       "      <th></th>\n",
       "    </tr>\n",
       "  </thead>\n",
       "  <tbody>\n",
       "    <tr>\n",
       "      <th>18-30</th>\n",
       "      <td>15456</td>\n",
       "      <td>27751</td>\n",
       "      <td>30834</td>\n",
       "    </tr>\n",
       "    <tr>\n",
       "      <th>30-50</th>\n",
       "      <td>308943</td>\n",
       "      <td>96496</td>\n",
       "      <td>3770</td>\n",
       "    </tr>\n",
       "    <tr>\n",
       "      <th>50-70</th>\n",
       "      <td>76498</td>\n",
       "      <td>83797</td>\n",
       "      <td>1578</td>\n",
       "    </tr>\n",
       "    <tr>\n",
       "      <th>70 et +</th>\n",
       "      <td>14783</td>\n",
       "      <td>19125</td>\n",
       "      <td>301</td>\n",
       "    </tr>\n",
       "  </tbody>\n",
       "</table>\n",
       "</div>"
      ],
      "text/plain": [
       "p_categ        0.0    1.0    2.0\n",
       "classe_age                      \n",
       "18-30        15456  27751  30834\n",
       "30-50       308943  96496   3770\n",
       "50-70        76498  83797   1578\n",
       "70 et +      14783  19125    301"
      ]
     },
     "execution_count": 17,
     "metadata": {},
     "output_type": "execute_result"
    }
   ],
   "source": [
    "# Tableau de contingence entre les variables 'catégorie' et 'sexe' qui va résumer ce que nous avons vu sur les graphiques\n",
    "cont_table = pd.crosstab(transac_prod_cust3['classe_age'],transac_prod_cust3['p_categ'])\n",
    "cont_table"
   ]
  },
  {
   "cell_type": "code",
   "execution_count": 18,
   "id": "c5523e93",
   "metadata": {
    "slideshow": {
     "slide_type": "skip"
    }
   },
   "outputs": [],
   "source": [
    "# Hypothèses\n",
    "H0 = \"pas de relation entre la classe d'âge et la catégorie\"\n",
    "H1 = \"Il y a une relation entre la classe d'âge et la catégorie\""
   ]
  },
  {
   "cell_type": "code",
   "execution_count": 19,
   "id": "1b8e4dd4",
   "metadata": {
    "slideshow": {
     "slide_type": "skip"
    }
   },
   "outputs": [
    {
     "name": "stdout",
     "output_type": "stream",
     "text": [
      "p_value for significance is: 0.0\n",
      "On rejette l'hypothèse nulle\n"
     ]
    }
   ],
   "source": [
    "# Test du chi2\n",
    "c, p, dof, expected = chi2_contingency(cont_table)\n",
    "# print the p_value\n",
    "print('p_value for significance is:',p)\n",
    "if p<0.05:\n",
    "    print(\"On rejette l'hypothèse nulle\")\n",
    "else:\n",
    "    (\"On accepte l'hypothèse nulle\")"
   ]
  },
  {
   "cell_type": "markdown",
   "id": "c56d22d7",
   "metadata": {
    "slideshow": {
     "slide_type": "skip"
    }
   },
   "source": [
    "- Etant donné que la p_valeur est inférieure au niveau de signification alpha = 0.05,\n",
    "- On doit rejeter l'hypoyhèse nulle H(0) et retenir l'hypothèse alternative H(1) \n",
    "- Il ya  corrélation entre la classe d'âge et la catégorie des livres achetés"
   ]
  },
  {
   "cell_type": "markdown",
   "id": "932dcd2d",
   "metadata": {
    "slideshow": {
     "slide_type": "skip"
    }
   },
   "source": [
    "#### I.5. Age des clients et fréquence d'achat "
   ]
  },
  {
   "cell_type": "markdown",
   "id": "201d5014",
   "metadata": {
    "slideshow": {
     "slide_type": "skip"
    }
   },
   "source": [
    "- Nous avons affaire à deux variables quantitatives\n",
    "- La fréquence d'achat évolue t-elle en fonction de l'âge des clients ?"
   ]
  },
  {
   "cell_type": "code",
   "execution_count": 20,
   "id": "47430df9",
   "metadata": {
    "slideshow": {
     "slide_type": "skip"
    }
   },
   "outputs": [
    {
     "data": {
      "text/plain": [
       "Text(0.5, 1.0, 'Age vs ventes_mensuelles')"
      ]
     },
     "execution_count": 20,
     "metadata": {},
     "output_type": "execute_result"
    },
    {
     "data": {
      "image/png": "[encoded data removed]",
      "text/plain": [
       "<Figure size 432x288 with 1 Axes>"
      ]
     },
     "metadata": {
      "needs_background": "light"
     },
     "output_type": "display_data"
    }
   ],
   "source": [
    "# Construisons le nuage de points pour avoir un aperçu de la corrélation\n",
    "fig=plt.figure()\n",
    "ax= plt.axes()\n",
    "x=transac_prod_cust3[transac_prod_cust3['ventes_mensuelles'] < 200] ['c_age']\n",
    "y=transac_prod_cust3[transac_prod_cust3['ventes_mensuelles'] < 200] ['ventes_mensuelles']\n",
    "plt.scatter(x,y)\n",
    "ax=ax.set(xlabel='c_age',ylabel='ventes_mensuelles')\n",
    "plt.title('Age vs ventes_mensuelles')"
   ]
  },
  {
   "cell_type": "markdown",
   "id": "7c629fe3",
   "metadata": {
    "slideshow": {
     "slide_type": "skip"
    }
   },
   "source": [
    "- Il n'est pas évident de voir une tendance qui se dégage\n",
    "- Que nous dit Le test de pearson ?"
   ]
  },
  {
   "cell_type": "code",
   "execution_count": 21,
   "id": "857b5562",
   "metadata": {
    "slideshow": {
     "slide_type": "skip"
    }
   },
   "outputs": [
    {
     "name": "stdout",
     "output_type": "stream",
     "text": [
      "Coef_cor_pearson: -0.018592479096410423\n"
     ]
    }
   ],
   "source": [
    "r, p = pearsonr(transac_prod_cust3['c_age'],transac_prod_cust3['ventes_mensuelles'] )\n",
    "\n",
    "# Affichons le coefficient de correlation\n",
    "print('Coef_cor_pearson:',r)\n"
   ]
  },
  {
   "cell_type": "markdown",
   "id": "b9f76137",
   "metadata": {
    "slideshow": {
     "slide_type": "skip"
    }
   },
   "source": [
    "- Une valeur négative (corrélation négative) signifiant que lorsqu'une des variables augmente, l'autre diminue ; \n",
    "- Dans le cas d'espèce , plus l'âge diminue, plus la fréquence d'achat baisse. Les deux variables n'évoluent pas dans le même sens.\n",
    "- Il ya une relation entre l'âge et la fréquence d'achats."
   ]
  },
  {
   "cell_type": "markdown",
   "id": "5302edaf",
   "metadata": {
    "slideshow": {
     "slide_type": "slide"
    }
   },
   "source": [
    "### II. Conclusions"
   ]
  },
  {
   "cell_type": "markdown",
   "id": "4a285375",
   "metadata": {
    "slideshow": {
     "slide_type": "subslide"
    }
   },
   "source": [
    "L'analyse de nos dataframes nous conduit à un certain nombre de constats :\n",
    "\n",
    "Un pic anormal pour les gens de 18 ans (histogramme 19)\n",
    "- un formulaire d'inscription à revoir \n",
    "- des mineurs qui s'inscrivent sur le site \n",
    "- Favoriser l'ad'hésion au site , en baissant l'âge d'adhésion afin d'augmenter le nombre d'ad'hérents en s'étendant sur les moins de 18 ans sur des contenus qui leurs sont adaptés. \n",
    "\n",
    "On constate une **forte parité** parmis la clientèle.\n",
    "- la communication *globale* de la marque ne doit pas renvoyer une image **genrée** (Pyramide des âges)\n",
    "\n",
    "\n",
    "\n",
    "Les 5 livres les plus vendus sont principalement de catégorie 2\n",
    "- Entretenir les produits les plus rentables\n",
    "- Il faut veiller au **stock** de ces produits.\n",
    "Une rupture de l'un deux pourrait être très préjudiciable.\n",
    "\n",
    "Les 5 livres les moins vendus sont principalement de catégorie 0\n",
    "- Booster les produits les moins rentables\n",
    "\n",
    "Les 30-50 ans rapportent le plus\n",
    "- Ils representent 47 % du CA (diagramme en camenbert[57])\n",
    "- Ils concentrent le plus gros chiffres d'affaires (boite à moustaches[60])\n",
    "- Ils achètent plus de 8 livres par mois(boite à moustaches[61])\n",
    "- Les fidéliser en offrant des bons de réductions ou les frais de livraisons gratuits, parrainage  \n",
    "\n",
    "\n",
    "\n",
    "\n",
    "Les 4 clients b2b ont un comportement totalement différent.\n",
    "Ce sont probablement des **libraires/bibliothèques** qui achètent en gros. Ils contribuent à **7% du CA**.\n",
    "- Ils pourraient bénéficier **d'actions marketings et d'un accompagnement personnalisé**."
   ]
  },
  {
   "cell_type": "code",
   "execution_count": null,
   "id": "d4c4abce",
   "metadata": {
    "slideshow": {
     "slide_type": "skip"
    }
   },
   "outputs": [],
   "source": []
  }
 ],
 "metadata": {
  "celltoolbar": "Diaporama",
  "kernelspec": {
   "display_name": "Python 3 (ipykernel)",
   "language": "python",
   "name": "python3"
  },
  "language_info": {
   "codemirror_mode": {
    "name": "ipython",
    "version": 3
   },
   "file_extension": ".py",
   "mimetype": "text/x-python",
   "name": "python",
   "nbconvert_exporter": "python",
   "pygments_lexer": "ipython3",
   "version": "3.9.7"
  },
  "toc": {
   "base_numbering": 1,
   "nav_menu": {},
   "number_sections": false,
   "sideBar": true,
   "skip_h1_title": false,
   "title_cell": "Table of Contents",
   "title_sidebar": "Contents",
   "toc_cell": false,
   "toc_position": {
    "height": "calc(100% - 180px)",
    "left": "10px",
    "top": "150px",
    "width": "273.825px"
   },
   "toc_section_display": true,
   "toc_window_display": true
  }
 },
 "nbformat": 4,
 "nbformat_minor": 5
}
